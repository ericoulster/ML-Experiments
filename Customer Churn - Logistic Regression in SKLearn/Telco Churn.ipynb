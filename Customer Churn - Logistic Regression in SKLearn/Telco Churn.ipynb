{
 "cells": [
  {
   "cell_type": "code",
   "execution_count": 1,
   "metadata": {},
   "outputs": [],
   "source": [
    "from sklearn.ensemble import GradientBoostingClassifier\n",
    "from sklearn.linear_model import LogisticRegression\n",
    "from sklearn.model_selection import train_test_split\n",
    "from sklearn.metrics import classification_report\n",
    "from sklearn.metrics import confusion_matrix"
   ]
  },
  {
   "cell_type": "code",
   "execution_count": 2,
   "metadata": {},
   "outputs": [],
   "source": [
    "import pandas as pd\n",
    "import numpy as np"
   ]
  },
  {
   "cell_type": "code",
   "execution_count": 3,
   "metadata": {},
   "outputs": [],
   "source": [
    "df = pd.read_csv('WA_Fn-UseC_-Telco-Customer-Churn.csv')"
   ]
  },
  {
   "cell_type": "code",
   "execution_count": 4,
   "metadata": {},
   "outputs": [
    {
     "data": {
      "text/plain": [
       "No     5174\n",
       "Yes    1869\n",
       "Name: Churn, dtype: int64"
      ]
     },
     "execution_count": 4,
     "metadata": {},
     "output_type": "execute_result"
    }
   ],
   "source": [
    "# This is a reasonable amount of churn for analysis\n",
    "df['Churn'].value_counts()"
   ]
  },
  {
   "cell_type": "code",
   "execution_count": 5,
   "metadata": {},
   "outputs": [
    {
     "name": "stdout",
     "output_type": "stream",
     "text": [
      "Empty DataFrame\n",
      "Columns: [customerID, gender, SeniorCitizen, Partner, Dependents, tenure, PhoneService, MultipleLines, InternetService, OnlineSecurity, OnlineBackup, DeviceProtection, TechSupport, StreamingTV, StreamingMovies, Contract, PaperlessBilling, PaymentMethod, MonthlyCharges, TotalCharges, Churn]\n",
      "Index: []\n",
      "\n",
      "[0 rows x 21 columns]\n"
     ]
    }
   ],
   "source": [
    "# Are all customer ID's unique?\n",
    "print(df[df.customerID.duplicated() == True])\n",
    "# Yes, which means I don't need it\n",
    "df = df.drop(columns='customerID')"
   ]
  },
  {
   "cell_type": "code",
   "execution_count": 6,
   "metadata": {},
   "outputs": [],
   "source": [
    "# For this one, you also have to determine which features are significant to churn\n",
    "\n",
    "### Feature Engineering ###"
   ]
  },
  {
   "cell_type": "code",
   "execution_count": 7,
   "metadata": {},
   "outputs": [],
   "source": [
    "# turn Y/N into booleans\n",
    "\n",
    "df['gender'] = df['gender'].map(dict(Female=1, Male=0))\n",
    "df['Partner'] = df['Partner'].map(dict(Yes=1, No=0))\n",
    "df['Dependents'] = df['Dependents'].map(dict(Yes=1, No=0))\n",
    "df['PhoneService'] = df['PhoneService'].map(dict(Yes=1, No=0))\n",
    "df['PaperlessBilling'] = df['PaperlessBilling'].map(dict(Yes=1, No=0))\n",
    "df['Churn'] = df['Churn'].map(dict(Yes=1, No=0))"
   ]
  },
  {
   "cell_type": "code",
   "execution_count": 8,
   "metadata": {},
   "outputs": [],
   "source": [
    "# encoding w/Dummies\n",
    "contract_dummies = pd.get_dummies(df['Contract'])\n",
    "payment_dummies = pd.get_dummies(df['PaymentMethod'])\n",
    "internet_dummies = pd.get_dummies(df['InternetService'])\n",
    "\n",
    "internet_dummies = internet_dummies.rename(columns={'No':'No Internet'})"
   ]
  },
  {
   "cell_type": "code",
   "execution_count": 9,
   "metadata": {},
   "outputs": [],
   "source": [
    "# convert remaining Y/N/NS, into booleans. No Service becomes no.\n",
    "\n",
    "df['OnlineSecurity'] = df['OnlineSecurity'].str.replace('No internet service', 'No').map(dict(Yes=1, No=0))\n",
    "df['OnlineBackup'] = df['OnlineBackup'].str.replace('No internet service', 'No').map(dict(Yes=1, No=0))\n",
    "df['DeviceProtection'] = df['DeviceProtection'].str.replace('No internet service', 'No').map(dict(Yes=1, No=0))\n",
    "df['TechSupport'] = df['TechSupport'].str.replace('No internet service', 'No').map(dict(Yes=1, No=0))\n",
    "df['StreamingTV'] = df['StreamingTV'].str.replace('No internet service', 'No').map(dict(Yes=1, No=0))\n",
    "df['StreamingMovies'] = df['StreamingMovies'].str.replace('No internet service', 'No').map(dict(Yes=1, No=0))\n",
    "\n",
    "df['MultipleLines'] = df['MultipleLines'].str.replace('No phone service', 'No').map(dict(Yes=1, No=0))"
   ]
  },
  {
   "cell_type": "code",
   "execution_count": 10,
   "metadata": {},
   "outputs": [],
   "source": [
    "df = df.drop(columns=['InternetService','Contract','PaymentMethod'])"
   ]
  },
  {
   "cell_type": "code",
   "execution_count": 11,
   "metadata": {},
   "outputs": [],
   "source": [
    "df = pd.concat([df, payment_dummies, contract_dummies, internet_dummies], axis=1)"
   ]
  },
  {
   "cell_type": "code",
   "execution_count": 12,
   "metadata": {},
   "outputs": [],
   "source": [
    "df['MonthlyCharges'] = df.MonthlyCharges.astype('float')"
   ]
  },
  {
   "cell_type": "code",
   "execution_count": 13,
   "metadata": {},
   "outputs": [],
   "source": [
    "# TotalCharges wasn't converting properly. A quick glance in excel indicated there were spaces used as NaNs\n",
    "# As TotalCharges can't be less than zero, encoding them as -1 flags them, while allowing conversion to float\n",
    "\n",
    "df['TotalCharges'] = df['TotalCharges'].str.replace(' ', '-1').astype('float')"
   ]
  },
  {
   "cell_type": "code",
   "execution_count": 14,
   "metadata": {},
   "outputs": [],
   "source": [
    "# -1's are converted into Monthly charges, as any total charge would include a monthly charge\n",
    "\n",
    "df['TotalCharges'] = np.where(df['TotalCharges'] == -1, df['MonthlyCharges'], df['TotalCharges'])"
   ]
  },
  {
   "cell_type": "code",
   "execution_count": 15,
   "metadata": {},
   "outputs": [],
   "source": [
    "# Standard Scale MonthlyCharges and TotalCharges\n",
    "\n",
    "numeric_vals = df[['TotalCharges', 'MonthlyCharges', 'tenure']]"
   ]
  },
  {
   "cell_type": "code",
   "execution_count": 16,
   "metadata": {},
   "outputs": [],
   "source": [
    "# dropping non-processed columns (and tenure, which is the only non-boolean value)\n",
    "df = df.drop(columns=['TotalCharges', 'MonthlyCharges', 'tenure'])\n",
    "df = df.iloc[:, 0:22].astype('bool')"
   ]
  },
  {
   "cell_type": "code",
   "execution_count": 17,
   "metadata": {},
   "outputs": [],
   "source": [
    "# adding in columns, and adding tenure back in\n",
    "df = pd.concat([df, numeric_vals], axis=1)"
   ]
  },
  {
   "cell_type": "code",
   "execution_count": 18,
   "metadata": {},
   "outputs": [],
   "source": [
    "X = df.drop(columns='Churn')"
   ]
  },
  {
   "cell_type": "code",
   "execution_count": 19,
   "metadata": {},
   "outputs": [],
   "source": [
    "y = df[['Churn']]"
   ]
  },
  {
   "cell_type": "markdown",
   "metadata": {},
   "source": [
    "Analysis"
   ]
  },
  {
   "cell_type": "code",
   "execution_count": 20,
   "metadata": {},
   "outputs": [],
   "source": [
    "X_train, X_test, y_train, y_test = train_test_split(X, y, test_size=0.20, random_state=42)"
   ]
  },
  {
   "cell_type": "code",
   "execution_count": 21,
   "metadata": {},
   "outputs": [],
   "source": [
    "model = LogisticRegression(penalty='l1', max_iter=1000,\n",
    "                           C=0.8, solver='liblinear', random_state=42)"
   ]
  },
  {
   "cell_type": "code",
   "execution_count": 22,
   "metadata": {},
   "outputs": [
    {
     "data": {
      "text/plain": [
       "LogisticRegression(C=0.8, max_iter=1000, penalty='l1', random_state=42,\n",
       "                   solver='liblinear')"
      ]
     },
     "execution_count": 22,
     "metadata": {},
     "output_type": "execute_result"
    }
   ],
   "source": [
    "model.fit(X_train, np.ravel(y_train,order='C'))"
   ]
  },
  {
   "cell_type": "code",
   "execution_count": 23,
   "metadata": {},
   "outputs": [],
   "source": [
    "y_pred = model.predict(X_test)"
   ]
  },
  {
   "cell_type": "code",
   "execution_count": 24,
   "metadata": {},
   "outputs": [
    {
     "name": "stdout",
     "output_type": "stream",
     "text": [
      "              precision    recall  f1-score   support\n",
      "\n",
      "       False      0.862     0.899     0.880      1036\n",
      "        True      0.681     0.601     0.638       373\n",
      "\n",
      "    accuracy                          0.820      1409\n",
      "   macro avg      0.771     0.750     0.759      1409\n",
      "weighted avg      0.814     0.820     0.816      1409\n",
      "\n"
     ]
    }
   ],
   "source": [
    "print(classification_report(y_test, y_pred, digits=3))"
   ]
  },
  {
   "cell_type": "code",
   "execution_count": 25,
   "metadata": {},
   "outputs": [
    {
     "name": "stdout",
     "output_type": "stream",
     "text": [
      "[[931 105]\n",
      " [149 224]]\n"
     ]
    }
   ],
   "source": [
    "print(confusion_matrix(y_true=y_test, y_pred=y_pred))"
   ]
  }
 ],
 "metadata": {
  "kernelspec": {
   "display_name": "Python 3",
   "language": "python",
   "name": "python3"
  },
  "language_info": {
   "codemirror_mode": {
    "name": "ipython",
    "version": 3
   },
   "file_extension": ".py",
   "mimetype": "text/x-python",
   "name": "python",
   "nbconvert_exporter": "python",
   "pygments_lexer": "ipython3",
   "version": "3.6.5"
  }
 },
 "nbformat": 4,
 "nbformat_minor": 2
}
