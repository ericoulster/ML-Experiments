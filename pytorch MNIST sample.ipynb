{
 "cells": [
  {
   "cell_type": "code",
   "execution_count": 2,
   "metadata": {},
   "outputs": [],
   "source": [
    "import torch\n",
    "import torch.nn as nn\n",
    "import matplotlib.pyplot as plt\n",
    "\n",
    "from torch.autograd import Variable\n",
    "\n",
    "import torch.nn.functional as F\n",
    "\n",
    "from torchvision import datasets\n",
    "from torchvision import transforms"
   ]
  },
  {
   "cell_type": "code",
   "execution_count": 4,
   "metadata": {},
   "outputs": [],
   "source": [
    "mean_gray = 0.1307\n",
    "stddev_gray = 0.3071\n",
    "\n",
    "transform=transforms.Compose([transforms.ToTensor(), transforms.Normalize((mean_gray,), (stddev_gray,))])"
   ]
  },
  {
   "cell_type": "code",
   "execution_count": 5,
   "metadata": {},
   "outputs": [
    {
     "name": "stdout",
     "output_type": "stream",
     "text": [
      "Downloading http://yann.lecun.com/exdb/mnist/train-images-idx3-ubyte.gz\n",
      "Downloading http://yann.lecun.com/exdb/mnist/train-images-idx3-ubyte.gz to ./data\\MNIST\\raw\\train-images-idx3-ubyte.gz\n"
     ]
    },
    {
     "name": "stderr",
     "output_type": "stream",
     "text": [
      "100.0%\n"
     ]
    },
    {
     "name": "stdout",
     "output_type": "stream",
     "text": [
      "Extracting ./data\\MNIST\\raw\\train-images-idx3-ubyte.gz to ./data\\MNIST\\raw\n"
     ]
    },
    {
     "name": "stderr",
     "output_type": "stream",
     "text": [
      "102.8%"
     ]
    },
    {
     "name": "stdout",
     "output_type": "stream",
     "text": [
      "\n",
      "Downloading http://yann.lecun.com/exdb/mnist/train-labels-idx1-ubyte.gz\n",
      "Downloading http://yann.lecun.com/exdb/mnist/train-labels-idx1-ubyte.gz to ./data\\MNIST\\raw\\train-labels-idx1-ubyte.gz\n",
      "Extracting ./data\\MNIST\\raw\\train-labels-idx1-ubyte.gz to ./data\\MNIST\\raw\n",
      "\n",
      "Downloading http://yann.lecun.com/exdb/mnist/t10k-images-idx3-ubyte.gz\n",
      "Downloading http://yann.lecun.com/exdb/mnist/t10k-images-idx3-ubyte.gz to ./data\\MNIST\\raw\\t10k-images-idx3-ubyte.gz\n"
     ]
    },
    {
     "name": "stderr",
     "output_type": "stream",
     "text": [
      "\n",
      "100.0%\n",
      "112.7%\n"
     ]
    },
    {
     "name": "stdout",
     "output_type": "stream",
     "text": [
      "Extracting ./data\\MNIST\\raw\\t10k-images-idx3-ubyte.gz to ./data\\MNIST\\raw\n",
      "\n",
      "Downloading http://yann.lecun.com/exdb/mnist/t10k-labels-idx1-ubyte.gz\n",
      "Downloading http://yann.lecun.com/exdb/mnist/t10k-labels-idx1-ubyte.gz to ./data\\MNIST\\raw\\t10k-labels-idx1-ubyte.gz\n",
      "Extracting ./data\\MNIST\\raw\\t10k-labels-idx1-ubyte.gz to ./data\\MNIST\\raw\n",
      "\n"
     ]
    }
   ],
   "source": [
    "mnist_train = datasets.MNIST('./data', train=True, download=True, transform=transform)\n",
    "mnist_valid = datasets.MNIST('./data', train=False, download=True, transform=transform)"
   ]
  },
  {
   "cell_type": "code",
   "execution_count": 6,
   "metadata": {},
   "outputs": [],
   "source": [
    "img = mnist_train[12][0].numpy() * stddev_gray + mean_gray"
   ]
  },
  {
   "cell_type": "code",
   "execution_count": 7,
   "metadata": {},
   "outputs": [
    {
     "data": {
      "text/plain": [
       "<matplotlib.image.AxesImage at 0x1e8f8a01c40>"
      ]
     },
     "execution_count": 7,
     "metadata": {},
     "output_type": "execute_result"
    },
    {
     "data": {
      "image/png": "[encoded data removed]",
      "text/plain": [
       "<Figure size 432x288 with 1 Axes>"
      ]
     },
     "metadata": {
      "needs_background": "light"
     },
     "output_type": "display_data"
    }
   ],
   "source": [
    "plt.imshow(img.reshape(28, 28), cmap='gray')"
   ]
  },
  {
   "cell_type": "code",
   "execution_count": 9,
   "metadata": {},
   "outputs": [
    {
     "data": {
      "text/plain": [
       "3"
      ]
     },
     "execution_count": 9,
     "metadata": {},
     "output_type": "execute_result"
    }
   ],
   "source": [
    "label = mnist_train[12][1]\n",
    "label"
   ]
  },
  {
   "cell_type": "code",
   "execution_count": 10,
   "metadata": {},
   "outputs": [],
   "source": [
    "batch_size=1024"
   ]
  },
  {
   "cell_type": "code",
   "execution_count": 11,
   "metadata": {},
   "outputs": [],
   "source": [
    "mnist_train_loader = torch.utils.data.DataLoader(mnist_train, batch_size=batch_size, shuffle=True, num_workers=1)\n",
    "mnist_valid_loader = torch.utils.data.DataLoader(mnist_valid, batch_size=batch_size, shuffle=True, num_workers=1)"
   ]
  },
  {
   "cell_type": "code",
   "execution_count": 12,
   "metadata": {},
   "outputs": [],
   "source": [
    "class MNISTnet(nn.Module):\n",
    "\n",
    "    def __init__(self):\n",
    "        super().__init__()\n",
    "\n",
    "        self.conv1 = nn.Conv2d(1, 20, kernel_size=5)\n",
    "        self.relu1 = nn.ReLU()\n",
    "\n",
    "        self.conv2 = nn.Conv2d(20, 30, kernel_size=5)\n",
    "        self.conv2_drop = nn.Dropout2d(p=0.5)\n",
    "        self.maxpool2 = nn.MaxPool2d(2)\n",
    "        self.relu2 = nn.ReLU()\n",
    "\n",
    "        self.fc1 = nn.Linear(3000, 500)\n",
    "        self.fc2 = nn.Linear(500, 10)\n",
    "\n",
    "    def forward(self, x):\n",
    "        x = self.conv1(x)\n",
    "        x = self.relu1(x)\n",
    "        \n",
    "        x = self.conv2(x)\n",
    "        x = self.conv2_drop(x)\n",
    "        x = self.maxpool2(x)\n",
    "        x = self.relu2(x)\n",
    "\n",
    "        # switches to vector representation\n",
    "        x = x.view(-1, 3000)\n",
    "\n",
    "        x = self.fc1(x)\n",
    "        x = F.relu(x)\n",
    "        x = F.dropout(x, training=True)\n",
    "\n",
    "        x = self.fc2(x)\n",
    "\n",
    "        return x\n"
   ]
  },
  {
   "cell_type": "code",
   "execution_count": 14,
   "metadata": {},
   "outputs": [],
   "source": [
    "net = MNISTnet()\n",
    "\n",
    "criterion = nn.CrossEntropyLoss()\n",
    "\n",
    "learning_rate = 0.01\n",
    "optimizer = torch.optim.SGD(net.parameters(), lr=learning_rate, momentum=0.9)"
   ]
  },
  {
   "cell_type": "code",
   "execution_count": 15,
   "metadata": {},
   "outputs": [],
   "source": [
    "num_epochs = 100"
   ]
  },
  {
   "cell_type": "code",
   "execution_count": 18,
   "metadata": {},
   "outputs": [
    {
     "name": "stdout",
     "output_type": "stream",
     "text": [
      "Epoch: 1/100, Tr Loss: 0.4618062376976013, Tr Acc: 86.23833465576172, Test Loss: 0.25151944160461426, Test Acc: 92.54000091552734\n",
      "Epoch: 2/100, Tr Loss: 0.27242809534072876, Tr Acc: 91.95999908447266, Test Loss: 0.1702285259962082, Test Acc: 94.91999816894531\n",
      "Epoch: 3/100, Tr Loss: 0.20042388141155243, Tr Acc: 94.10166931152344, Test Loss: 0.13057541847229004, Test Acc: 95.91000366210938\n",
      "Epoch: 4/100, Tr Loss: 0.16566574573516846, Tr Acc: 95.163330078125, Test Loss: 0.10905113071203232, Test Acc: 96.63999938964844\n",
      "Epoch: 5/100, Tr Loss: 0.14109380543231964, Tr Acc: 95.86000061035156, Test Loss: 0.09534826129674911, Test Acc: 97.12999725341797\n",
      "Epoch: 6/100, Tr Loss: 0.1274431198835373, Tr Acc: 96.15499877929688, Test Loss: 0.08194892108440399, Test Acc: 97.45999908447266\n",
      "Epoch: 7/100, Tr Loss: 0.11485692858695984, Tr Acc: 96.66500091552734, Test Loss: 0.07599520683288574, Test Acc: 97.7699966430664\n",
      "Epoch: 8/100, Tr Loss: 0.10558293759822845, Tr Acc: 96.836669921875, Test Loss: 0.06693465262651443, Test Acc: 97.97000122070312\n",
      "Epoch: 9/100, Tr Loss: 0.09544753283262253, Tr Acc: 97.19999694824219, Test Loss: 0.06607367098331451, Test Acc: 97.72999572753906\n",
      "Epoch: 10/100, Tr Loss: 0.08990289270877838, Tr Acc: 97.2933349609375, Test Loss: 0.05759633332490921, Test Acc: 98.00999450683594\n",
      "Epoch: 11/100, Tr Loss: 0.08467007428407669, Tr Acc: 97.50666809082031, Test Loss: 0.05970718711614609, Test Acc: 98.1500015258789\n",
      "Epoch: 12/100, Tr Loss: 0.08264001458883286, Tr Acc: 97.5616683959961, Test Loss: 0.05370841547846794, Test Acc: 98.23999786376953\n",
      "Epoch: 13/100, Tr Loss: 0.07587286084890366, Tr Acc: 97.73332977294922, Test Loss: 0.05352761223912239, Test Acc: 98.29000091552734\n",
      "Epoch: 14/100, Tr Loss: 0.0730588361620903, Tr Acc: 97.77666473388672, Test Loss: 0.050380200147628784, Test Acc: 98.5199966430664\n",
      "Epoch: 15/100, Tr Loss: 0.06882645934820175, Tr Acc: 97.91500091552734, Test Loss: 0.04856804385781288, Test Acc: 98.43999481201172\n",
      "Epoch: 16/100, Tr Loss: 0.06763021647930145, Tr Acc: 97.92333221435547, Test Loss: 0.04532279074192047, Test Acc: 98.58999633789062\n",
      "Epoch: 17/100, Tr Loss: 0.06522516906261444, Tr Acc: 98.07499694824219, Test Loss: 0.047496967017650604, Test Acc: 98.56999969482422\n",
      "Epoch: 18/100, Tr Loss: 0.06340088695287704, Tr Acc: 98.07499694824219, Test Loss: 0.04557137191295624, Test Acc: 98.61000061035156\n",
      "Epoch: 19/100, Tr Loss: 0.059966057538986206, Tr Acc: 98.20166778564453, Test Loss: 0.041979849338531494, Test Acc: 98.65999603271484\n",
      "Epoch: 20/100, Tr Loss: 0.05596141517162323, Tr Acc: 98.28166961669922, Test Loss: 0.04229237511754036, Test Acc: 98.52999877929688\n",
      "Epoch: 21/100, Tr Loss: 0.05656077340245247, Tr Acc: 98.3066635131836, Test Loss: 0.04263511300086975, Test Acc: 98.54000091552734\n",
      "Epoch: 22/100, Tr Loss: 0.053075894713401794, Tr Acc: 98.44999694824219, Test Loss: 0.039846181869506836, Test Acc: 98.79000091552734\n",
      "Epoch: 23/100, Tr Loss: 0.053562115877866745, Tr Acc: 98.3316650390625, Test Loss: 0.04129664972424507, Test Acc: 98.70999908447266\n",
      "Epoch: 24/100, Tr Loss: 0.05135075002908707, Tr Acc: 98.46833038330078, Test Loss: 0.0400334969162941, Test Acc: 98.77999877929688\n",
      "Epoch: 25/100, Tr Loss: 0.04972586780786514, Tr Acc: 98.49500274658203, Test Loss: 0.04009187966585159, Test Acc: 98.79000091552734\n",
      "Epoch: 26/100, Tr Loss: 0.05005578324198723, Tr Acc: 98.47166442871094, Test Loss: 0.03885199874639511, Test Acc: 98.87999725341797\n",
      "Epoch: 27/100, Tr Loss: 0.04714904725551605, Tr Acc: 98.56999969482422, Test Loss: 0.039579614996910095, Test Acc: 98.66999816894531\n",
      "Epoch: 28/100, Tr Loss: 0.047728441655635834, Tr Acc: 98.53666687011719, Test Loss: 0.03774212673306465, Test Acc: 98.7699966430664\n",
      "Epoch: 29/100, Tr Loss: 0.04672323167324066, Tr Acc: 98.6066665649414, Test Loss: 0.03867234289646149, Test Acc: 98.75\n",
      "Epoch: 30/100, Tr Loss: 0.045023586601018906, Tr Acc: 98.61000061035156, Test Loss: 0.03688810393214226, Test Acc: 98.80999755859375\n",
      "Epoch: 31/100, Tr Loss: 0.04383557289838791, Tr Acc: 98.69000244140625, Test Loss: 0.03773633390665054, Test Acc: 98.75\n",
      "Epoch: 32/100, Tr Loss: 0.042952761054039, Tr Acc: 98.70999908447266, Test Loss: 0.03695916756987572, Test Acc: 98.72999572753906\n",
      "Epoch: 33/100, Tr Loss: 0.04252468794584274, Tr Acc: 98.66500091552734, Test Loss: 0.03546199947595596, Test Acc: 98.87999725341797\n",
      "Epoch: 34/100, Tr Loss: 0.04025982320308685, Tr Acc: 98.77833557128906, Test Loss: 0.03504205122590065, Test Acc: 98.93000030517578\n",
      "Epoch: 35/100, Tr Loss: 0.03997104614973068, Tr Acc: 98.76000213623047, Test Loss: 0.03453654795885086, Test Acc: 98.98999786376953\n",
      "Epoch: 36/100, Tr Loss: 0.03875092789530754, Tr Acc: 98.80999755859375, Test Loss: 0.0347021222114563, Test Acc: 98.91999816894531\n",
      "Epoch: 37/100, Tr Loss: 0.03758210316300392, Tr Acc: 98.87999725341797, Test Loss: 0.034874189645051956, Test Acc: 98.8499984741211\n",
      "Epoch: 38/100, Tr Loss: 0.037496309727430344, Tr Acc: 98.7699966430664, Test Loss: 0.034311141818761826, Test Acc: 99.02999877929688\n",
      "Epoch: 39/100, Tr Loss: 0.03767310827970505, Tr Acc: 98.8116683959961, Test Loss: 0.034824393689632416, Test Acc: 98.93000030517578\n",
      "Epoch: 40/100, Tr Loss: 0.03418492525815964, Tr Acc: 98.94999694824219, Test Loss: 0.03684050217270851, Test Acc: 98.83999633789062\n",
      "Epoch: 41/100, Tr Loss: 0.03548956662416458, Tr Acc: 98.86666870117188, Test Loss: 0.03309623897075653, Test Acc: 98.9000015258789\n",
      "Epoch: 42/100, Tr Loss: 0.03512008488178253, Tr Acc: 98.91666412353516, Test Loss: 0.03388499468564987, Test Acc: 98.95999908447266\n",
      "Epoch: 43/100, Tr Loss: 0.03360660374164581, Tr Acc: 98.91000366210938, Test Loss: 0.03301292657852173, Test Acc: 98.94000244140625\n",
      "Epoch: 44/100, Tr Loss: 0.03239474073052406, Tr Acc: 98.98500061035156, Test Loss: 0.031959619373083115, Test Acc: 98.90999603271484\n",
      "Epoch: 45/100, Tr Loss: 0.03230532631278038, Tr Acc: 98.96333312988281, Test Loss: 0.03184068948030472, Test Acc: 98.97000122070312\n",
      "Epoch: 46/100, Tr Loss: 0.03349969908595085, Tr Acc: 98.95500183105469, Test Loss: 0.034744419157505035, Test Acc: 98.97000122070312\n",
      "Epoch: 47/100, Tr Loss: 0.03182964026927948, Tr Acc: 99.01333618164062, Test Loss: 0.03274090588092804, Test Acc: 99.01000213623047\n",
      "Epoch: 48/100, Tr Loss: 0.029367588460445404, Tr Acc: 99.06500244140625, Test Loss: 0.03252348676323891, Test Acc: 99.01000213623047\n",
      "Epoch: 49/100, Tr Loss: 0.03028237447142601, Tr Acc: 99.02166748046875, Test Loss: 0.03200583904981613, Test Acc: 98.90999603271484\n",
      "Epoch: 50/100, Tr Loss: 0.030234169214963913, Tr Acc: 99.038330078125, Test Loss: 0.030949344858527184, Test Acc: 99.01000213623047\n",
      "Epoch: 51/100, Tr Loss: 0.028052333742380142, Tr Acc: 99.0999984741211, Test Loss: 0.0349864736199379, Test Acc: 98.94999694824219\n",
      "Epoch: 52/100, Tr Loss: 0.029005303978919983, Tr Acc: 99.12333679199219, Test Loss: 0.03279877454042435, Test Acc: 98.97000122070312\n",
      "Epoch: 53/100, Tr Loss: 0.02769969031214714, Tr Acc: 99.09833526611328, Test Loss: 0.029164841398596764, Test Acc: 99.02999877929688\n",
      "Epoch: 54/100, Tr Loss: 0.02875930815935135, Tr Acc: 99.07166290283203, Test Loss: 0.033207815140485764, Test Acc: 98.94999694824219\n",
      "Epoch: 55/100, Tr Loss: 0.026882974430918694, Tr Acc: 99.15833282470703, Test Loss: 0.033497460186481476, Test Acc: 98.94999694824219\n",
      "Epoch: 56/100, Tr Loss: 0.02815375104546547, Tr Acc: 99.12000274658203, Test Loss: 0.033186785876750946, Test Acc: 98.94999694824219\n",
      "Epoch: 57/100, Tr Loss: 0.02790379524230957, Tr Acc: 99.10832977294922, Test Loss: 0.02953684888780117, Test Acc: 99.0199966430664\n",
      "Epoch: 58/100, Tr Loss: 0.02571699768304825, Tr Acc: 99.15333557128906, Test Loss: 0.03151203691959381, Test Acc: 98.97000122070312\n",
      "Epoch: 59/100, Tr Loss: 0.026362977921962738, Tr Acc: 99.16000366210938, Test Loss: 0.03257196024060249, Test Acc: 99.01000213623047\n",
      "Epoch: 60/100, Tr Loss: 0.025571899488568306, Tr Acc: 99.19499969482422, Test Loss: 0.030004406347870827, Test Acc: 98.95999908447266\n",
      "Epoch: 61/100, Tr Loss: 0.02462061308324337, Tr Acc: 99.17833709716797, Test Loss: 0.02776961959898472, Test Acc: 99.15999603271484\n",
      "Epoch: 62/100, Tr Loss: 0.02489309012889862, Tr Acc: 99.1866683959961, Test Loss: 0.03019331954419613, Test Acc: 99.1500015258789\n",
      "Epoch: 63/100, Tr Loss: 0.025292696431279182, Tr Acc: 99.19499969482422, Test Loss: 0.03206799924373627, Test Acc: 99.04999542236328\n",
      "Epoch: 64/100, Tr Loss: 0.023569447919726372, Tr Acc: 99.24166870117188, Test Loss: 0.030131220817565918, Test Acc: 99.05999755859375\n",
      "Epoch: 65/100, Tr Loss: 0.0244708564132452, Tr Acc: 99.20166778564453, Test Loss: 0.02971670962870121, Test Acc: 99.1199951171875\n",
      "Epoch: 66/100, Tr Loss: 0.023593131452798843, Tr Acc: 99.26000213623047, Test Loss: 0.029232556000351906, Test Acc: 99.16999816894531\n",
      "Epoch: 67/100, Tr Loss: 0.0245464276522398, Tr Acc: 99.20500183105469, Test Loss: 0.02962992526590824, Test Acc: 99.08000183105469\n",
      "Epoch: 68/100, Tr Loss: 0.023018626496195793, Tr Acc: 99.28166961669922, Test Loss: 0.031563784927129745, Test Acc: 99.01000213623047\n",
      "Epoch: 69/100, Tr Loss: 0.021855590865015984, Tr Acc: 99.25499725341797, Test Loss: 0.03072131611406803, Test Acc: 99.08999633789062\n",
      "Epoch: 70/100, Tr Loss: 0.02245977334678173, Tr Acc: 99.24666595458984, Test Loss: 0.033225931227207184, Test Acc: 98.93000030517578\n",
      "Epoch: 71/100, Tr Loss: 0.021598253399133682, Tr Acc: 99.27666473388672, Test Loss: 0.03176369518041611, Test Acc: 98.97999572753906\n",
      "Epoch: 72/100, Tr Loss: 0.021737512201070786, Tr Acc: 99.27833557128906, Test Loss: 0.029579082503914833, Test Acc: 99.01000213623047\n",
      "Epoch: 73/100, Tr Loss: 0.021578211337327957, Tr Acc: 99.288330078125, Test Loss: 0.030195781961083412, Test Acc: 99.04000091552734\n",
      "Epoch: 74/100, Tr Loss: 0.02192007191479206, Tr Acc: 99.30166625976562, Test Loss: 0.031039375811815262, Test Acc: 99.15999603271484\n",
      "Epoch: 75/100, Tr Loss: 0.021413050591945648, Tr Acc: 99.3116683959961, Test Loss: 0.030011316761374474, Test Acc: 99.11000061035156\n",
      "Epoch: 76/100, Tr Loss: 0.02064445987343788, Tr Acc: 99.33000183105469, Test Loss: 0.03076672926545143, Test Acc: 99.11000061035156\n",
      "Epoch: 77/100, Tr Loss: 0.020438382402062416, Tr Acc: 99.3183364868164, Test Loss: 0.03248109295964241, Test Acc: 99.0\n",
      "Epoch: 78/100, Tr Loss: 0.019982285797595978, Tr Acc: 99.32333374023438, Test Loss: 0.029141034930944443, Test Acc: 99.1199951171875\n",
      "Epoch: 79/100, Tr Loss: 0.019834447652101517, Tr Acc: 99.3499984741211, Test Loss: 0.03097591921687126, Test Acc: 98.98999786376953\n",
      "Epoch: 80/100, Tr Loss: 0.020838595926761627, Tr Acc: 99.3316650390625, Test Loss: 0.03184610977768898, Test Acc: 99.06999969482422\n",
      "Epoch: 81/100, Tr Loss: 0.019949976354837418, Tr Acc: 99.34166717529297, Test Loss: 0.032265838235616684, Test Acc: 99.06999969482422\n",
      "Epoch: 82/100, Tr Loss: 0.01999657042324543, Tr Acc: 99.3550033569336, Test Loss: 0.02819785475730896, Test Acc: 99.05999755859375\n",
      "Epoch: 83/100, Tr Loss: 0.01935323141515255, Tr Acc: 99.36666870117188, Test Loss: 0.0326002761721611, Test Acc: 99.01000213623047\n",
      "Epoch: 84/100, Tr Loss: 0.019250206649303436, Tr Acc: 99.38999938964844, Test Loss: 0.03194072097539902, Test Acc: 99.04999542236328\n",
      "Epoch: 85/100, Tr Loss: 0.0196748748421669, Tr Acc: 99.3566665649414, Test Loss: 0.03293020650744438, Test Acc: 98.98999786376953\n",
      "Epoch: 86/100, Tr Loss: 0.017637949436903, Tr Acc: 99.41500091552734, Test Loss: 0.0269398745149374, Test Acc: 99.16999816894531\n",
      "Epoch: 87/100, Tr Loss: 0.019338585436344147, Tr Acc: 99.34833526611328, Test Loss: 0.029346007853746414, Test Acc: 99.15999603271484\n",
      "Epoch: 88/100, Tr Loss: 0.01752045750617981, Tr Acc: 99.43499755859375, Test Loss: 0.030132517218589783, Test Acc: 99.0\n",
      "Epoch: 89/100, Tr Loss: 0.01930713653564453, Tr Acc: 99.37000274658203, Test Loss: 0.02681589685380459, Test Acc: 99.0999984741211\n",
      "Epoch: 90/100, Tr Loss: 0.01719481684267521, Tr Acc: 99.41999816894531, Test Loss: 0.030620325356721878, Test Acc: 99.12999725341797\n",
      "Epoch: 91/100, Tr Loss: 0.01803024858236313, Tr Acc: 99.39666748046875, Test Loss: 0.028293315321207047, Test Acc: 99.1500015258789\n",
      "Epoch: 92/100, Tr Loss: 0.016300059854984283, Tr Acc: 99.47000122070312, Test Loss: 0.03067464753985405, Test Acc: 99.08999633789062\n",
      "Epoch: 93/100, Tr Loss: 0.018242357298731804, Tr Acc: 99.41166687011719, Test Loss: 0.030981581658124924, Test Acc: 99.0199966430664\n",
      "Epoch: 94/100, Tr Loss: 0.016499388962984085, Tr Acc: 99.47333526611328, Test Loss: 0.031813353300094604, Test Acc: 99.04999542236328\n",
      "Epoch: 95/100, Tr Loss: 0.016039900481700897, Tr Acc: 99.48332977294922, Test Loss: 0.030923057347536087, Test Acc: 99.04999542236328\n",
      "Epoch: 96/100, Tr Loss: 0.0176477562636137, Tr Acc: 99.4433364868164, Test Loss: 0.030852869153022766, Test Acc: 99.1199951171875\n",
      "Epoch: 97/100, Tr Loss: 0.016550948843359947, Tr Acc: 99.44833374023438, Test Loss: 0.031029973179101944, Test Acc: 99.08999633789062\n",
      "Epoch: 98/100, Tr Loss: 0.016274167224764824, Tr Acc: 99.41500091552734, Test Loss: 0.03090530075132847, Test Acc: 99.04999542236328\n",
      "Epoch: 99/100, Tr Loss: 0.015963207930326462, Tr Acc: 99.47166442871094, Test Loss: 0.03145439922809601, Test Acc: 99.02999877929688\n",
      "Epoch: 100/100, Tr Loss: 0.016453759744763374, Tr Acc: 99.41166687011719, Test Loss: 0.029306381940841675, Test Acc: 99.0999984741211\n"
     ]
    }
   ],
   "source": [
    "train_loss = []\n",
    "valid_loss = []\n",
    "train_accuracy = []\n",
    "valid_accuracy = []\n",
    "\n",
    "for epoch in range(num_epochs):\n",
    "\n",
    "    iter_loss = 0.0\n",
    "    correct = 0\n",
    "    iterations = 0\n",
    "\n",
    "    net.train()\n",
    "\n",
    "    for i, (items, classes) in enumerate(mnist_train_loader):\n",
    "\n",
    "        items = Variable(items)\n",
    "        classes = Variable(classes)\n",
    "\n",
    "        optimizer.zero_grad() # clears off gradients from past\n",
    "        outputs = net(items) # forward pass\n",
    "        loss = criterion(outputs, classes) # calculates loss\n",
    "        iter_loss += loss.data # accumulate the loss\n",
    "        loss.backward() # calculate the gradients with help of back propagation\n",
    "        optimizer.step()\n",
    "\n",
    "        # record the correct predictions for training data\n",
    "        _, predicted = torch.max(outputs.data, 1)\n",
    "        correct += (predicted == classes.data).sum()\n",
    "        iterations += 1\n",
    "\n",
    "    # record loss\n",
    "    train_loss.append(iter_loss/iterations)\n",
    "\n",
    "    # record accuracy\n",
    "    train_accuracy.append((100 * correct / len(mnist_train_loader.dataset)))\n",
    "\n",
    "    # validate\n",
    "\n",
    "    loss = 0.0\n",
    "    correct = 0\n",
    "    iterations = 0\n",
    "\n",
    "    net.eval()\n",
    "\n",
    "    for i, (items, classes) in enumerate(mnist_valid_loader):\n",
    "\n",
    "        items = Variable(items)\n",
    "        classes = Variable(classes)\n",
    "\n",
    "        outputs = net(items) # forward pass\n",
    "        loss += criterion(outputs, classes).data\n",
    "\n",
    "        # record correct predictions\n",
    "        _, predicted = torch.max(outputs.data, 1)\n",
    "        correct += (predicted == classes.data).sum()\n",
    "\n",
    "        iterations += 1\n",
    "\n",
    "\n",
    "    valid_loss.append(loss/iterations)\n",
    "    valid_accuracy.append(correct / len(mnist_valid_loader.dataset) * 100.0)\n",
    "\n",
    "    print(f\"Epoch: {epoch+1}/{num_epochs}, Tr Loss: {train_loss[-1]}, Tr Acc: {train_accuracy[-1]}, Test Loss: {valid_loss[-1]}, Test Acc: {valid_accuracy[-1]}\")"
   ]
  },
  {
   "cell_type": "code",
   "execution_count": 19,
   "metadata": {},
   "outputs": [
    {
     "data": {
      "image/png": "[encoded data removed]",
      "text/plain": [
       "<Figure size 720x576 with 1 Axes>"
      ]
     },
     "metadata": {
      "needs_background": "light"
     },
     "output_type": "display_data"
    }
   ],
   "source": [
    "# loss\n",
    "f = plt.figure(figsize=(10, 8))\n",
    "plt.plot(train_loss, label='training loss')\n",
    "plt.plot(valid_loss, label='validation loss')\n",
    "plt.legend()\n",
    "plt.show()"
   ]
  },
  {
   "cell_type": "code",
   "execution_count": 20,
   "metadata": {},
   "outputs": [
    {
     "data": {
      "image/png": "[encoded data removed]",
      "text/plain": [
       "<Figure size 720x576 with 1 Axes>"
      ]
     },
     "metadata": {
      "needs_background": "light"
     },
     "output_type": "display_data"
    }
   ],
   "source": [
    "# accuracy\n",
    "\n",
    "f = plt.figure(figsize=(10, 8))\n",
    "plt.plot(train_accuracy, label='training accuracy')\n",
    "plt.plot(valid_accuracy, label='validation accuracy')\n",
    "plt.legend()\n",
    "plt.show()"
   ]
  }
 ],
 "metadata": {
  "interpreter": {
   "hash": "2e442441ca04e4822e1e4b7839f15e8e96489d741ebe2c3a04e6d0ab596376d6"
  },
  "kernelspec": {
   "display_name": "Python 3.8.10 64-bit ('pytorch_env': conda)",
   "language": "python",
   "name": "python3"
  },
  "language_info": {
   "codemirror_mode": {
    "name": "ipython",
    "version": 3
   },
   "file_extension": ".py",
   "mimetype": "text/x-python",
   "name": "python",
   "nbconvert_exporter": "python",
   "pygments_lexer": "ipython3",
   "version": "3.8.10"
  },
  "orig_nbformat": 4
 },
 "nbformat": 4,
 "nbformat_minor": 2
}
